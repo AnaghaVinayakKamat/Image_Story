{
  "cells": [
    {
      "cell_type": "markdown",
      "metadata": {
        "id": "QJwD8OsIU5Vq"
      },
      "source": [
        "# **Image Summarization with BLIP Model**\n",
        "\n",
        "This Python script leverages the BLIP (Bootstrapped Language-Image Pretraining) model from Salesforce to generate summaries about images. By utilizing advanced deep learning techniques, this tool offers a simple way to convert visual data into meaningful text, enhancing accessibility and understanding of image content.\n",
        "\n",
        "## **Overview of the Code**\n",
        "The code is structured into several key components, each responsible for specific tasks, from loading and processing the image to generating and displaying the resulting description.\n",
        "\n",
        "\n",
        "\n",
        "\n",
        "\n",
        "\n",
        "\n",
        "\n",
        "\n"
      ]
    },
    {
      "cell_type": "markdown",
      "metadata": {
        "id": "ovl8ouUDVn6c"
      },
      "source": [
        "## **Required Libraries**\n",
        "1. PyTorch: For running the deep learning models on either GPU or CPU.\n",
        "2. Transformers: For loading and using the BLIP model.\n",
        "3. Pillow (PIL): For image processing.\n",
        "4. Matplotlib: For displaying the image and the caption.\n",
        "5. python-multipart\n"
      ]
    },
    {
      "cell_type": "code",
      "execution_count": null,
      "metadata": {
        "colab": {
          "base_uri": "https://localhost:8080/"
        },
        "id": "C6gOpRuQmlBN",
        "outputId": "7fb31621-eba7-4b1f-f743-4eb5a7312494"
      },
      "outputs": [],
      "source": [
        "!pip install torch torchvision transformers pillow\n",
        "!pip install python-multipart"
      ]
    },
    {
      "cell_type": "markdown",
      "metadata": {
        "id": "lZNI8k-Kp6l3"
      },
      "source": [
        "## **Key Components**\n",
        "1. Importing Libraries: The script begins by importing essential libraries:\n",
        "\n",
        "  * **torch:** The core library for tensor computation and deep learning operations.\n",
        "  * **PIL:** The Python Imaging Library, used for opening and manipulating image files.\n",
        "  * **matplotlib.pyplot:** A plotting library to visualize images and their captions.\n",
        "  * **transformers:** A library from Hugging Face that provides pre-trained models and processing utilities for natural language processing (NLP) and image captioning and summarization tasks.\n"
      ]
    },
    {
      "cell_type": "code",
      "execution_count": 1,
      "metadata": {
        "id": "j_q6od93oLAL"
      },
      "outputs": [],
      "source": [
        "import torch\n",
        "from PIL import Image\n",
        "import matplotlib.pyplot as plt\n",
        "from transformers import BlipProcessor, BlipForConditionalGeneration"
      ]
    },
    {
      "cell_type": "markdown",
      "metadata": {
        "id": "AbHOrSuvVO6a"
      },
      "source": [
        "2. Loading the BLIP Model: [link text](https://)The script initializes the BLIP model and its corresponding processor:\n",
        "\n",
        "  * The BlipProcessor handles the image preprocessing and input formatting required by the model.\n",
        "  * The BlipForConditionalGeneration is the actual model used for generating captions based on the processed images.\n",
        "  * The model is moved to the GPU (if available) for faster computation.\n",
        "\n"
      ]
    },
    {
      "cell_type": "code",
      "execution_count": 7,
      "metadata": {
        "id": "ZiAePqfmoewM"
      },
      "outputs": [],
      "source": [
        "blip_processor = BlipProcessor.from_pretrained(\"Salesforce/blip-image-captioning-base\")\n",
        "blip_model = BlipForConditionalGeneration.from_pretrained(\"Salesforce/blip-image-captioning-base\").to(\"cuda\")"
      ]
    },
    {
      "cell_type": "markdown",
      "metadata": {
        "id": "svCTVHq4ViJS"
      },
      "source": [
        "3. Generating Image Descriptions: The function generate_image_description is responsible for loading an image, processing it, and generating a caption:\n",
        "\n",
        "  * The image is loaded and converted to RGB format to ensure compatibility with the model.\n",
        "  *The image is then processed into a format suitable for the BLIP model.\n",
        "  *The model generates a caption with a maximum length of 150 tokens, utilizing beam search for improved quality and coherence of the generated text.\n",
        "  *The generated output is decoded into a human-readable format."
      ]
    },
    {
      "cell_type": "code",
      "execution_count": 8,
      "metadata": {
        "id": "kWeX0F1tpFGc"
      },
      "outputs": [],
      "source": [
        "def generate_image_description(image_path):\n",
        "    \"\"\"\n",
        "    Generate a detailed description for the image using the BLIP model.\n",
        "    \"\"\"\n",
        "    # Load and preprocess the image\n",
        "    image = Image.open(image_path).convert(\"RGB\")\n",
        "\n",
        "    # Prepare the inputs for BLIP\n",
        "    inputs = blip_processor(images=image, return_tensors=\"pt\").to(\"cuda\")\n",
        "\n",
        "    # Generate the description\n",
        "    output = blip_model.generate(**inputs, max_length=150, num_beams=5, early_stopping=True)\n",
        "    description = blip_processor.decode(output[0], skip_special_tokens=True)\n",
        "\n",
        "    return image, description\n"
      ]
    },
    {
      "cell_type": "markdown",
      "metadata": {
        "id": "hs6oKkO4pJNg"
      },
      "source": [
        "4. Displaying the Image and Description: The function display_image_and_description is used to visualize the image along with its generated caption\n",
        "\n",
        "  * A Matplotlib figure is created, and the image is displayed without axes for a cleaner look.\n",
        "  * The generated description is set as the title of the image, allowing users to quickly understand the content.\n"
      ]
    },
    {
      "cell_type": "code",
      "execution_count": 9,
      "metadata": {
        "id": "s5YcvlfDpIDl"
      },
      "outputs": [],
      "source": [
        "def display_image_and_description(image, description):\n",
        "    \"\"\"\n",
        "    Display the image and its generated description.\n",
        "    \"\"\"\n",
        "    plt.figure(figsize=(8, 6))\n",
        "    plt.imshow(image)\n",
        "    plt.axis('off')  # Hide the axes\n",
        "    plt.title(description, fontsize=14)  # Show the description as the title\n",
        "    plt.show()\n"
      ]
    },
    {
      "cell_type": "markdown",
      "metadata": {
        "id": "yf-8xpJvpjHM"
      },
      "source": [
        "5. Example Usage: The script concludes with an example of how to use the functions defined\n",
        "\n",
        "  * The user is expected to replace the image_path variable with the path to their image file.\n",
        "  * The image and its description are generated and displayed when the script is executed.\n"
      ]
    },
    {
      "cell_type": "code",
      "execution_count": 10,
      "metadata": {
        "colab": {
          "base_uri": "https://localhost:8080/",
          "height": 409
        },
        "id": "qlbLoFlrpYCs",
        "outputId": "f69c1763-5f6d-4cfc-e424-276ec3d8ef50"
      },
      "outputs": [],
      "source": [
        "# Example usage\n",
        "image_path = \"your path\"  # Replace with the path to your image\n",
        "image, description = generate_image_description(image_path)\n",
        "display_image_and_description(image, description)\n"
      ]
    },
    {
      "cell_type": "markdown",
      "metadata": {
        "id": "WhIv2WejxUX6"
      },
      "source": [
        "## **Fine-Tunning the Model**\n",
        "\n",
        "Further we can improve the model performance by adding a few more parameters in model processors.\n",
        "\n",
        "1. First I have added autocast that will enable us to carry out mixed precision i.e in the context of deep learning, mixed precision refers to the practice of using both 16-bit and 32-bit floating-point numbers in model training and inference.\n",
        "\n",
        "2. Then we are generating description with beam search combined with sampling. This will enhance the quality and uniqueness of descriptions generated.\n",
        "\n",
        "There are various other ways to improve model performance; good image processing and finetuning with a relevant dataset."
      ]
    },
    {
      "cell_type": "code",
      "execution_count": 11,
      "metadata": {
        "colab": {
          "base_uri": "https://localhost:8080/",
          "height": 464
        },
        "id": "bez6BU-QwiPc",
        "outputId": "11f29dc5-3e2d-4954-e547-ac93adcf3d89"
      },
      "outputs": [],
      "source": [
        "import torch\n",
        "from PIL import Image\n",
        "import matplotlib.pyplot as plt\n",
        "from transformers import BlipProcessor, BlipForConditionalGeneration\n",
        "from torch.cuda.amp import autocast\n",
        "\n",
        "# Load the larger BLIP model and processor for improved performance\n",
        "blip_processor = BlipProcessor.from_pretrained(\"Salesforce/blip-image-captioning-large\")\n",
        "blip_model = BlipForConditionalGeneration.from_pretrained(\"Salesforce/blip-image-captioning-large\")\n",
        "\n",
        "def generate_image_description(image_path, max_length=200, num_beams=7, do_sample=False, top_k=50, top_p=0.95, temperature=0.7):\n",
        "    \"\"\"\n",
        "    Generate a detailed description for the image using the BLIP model.\n",
        "    Improvements include:\n",
        "    - Larger model for better performance.\n",
        "    - Adjustable beam search and sampling options for diversity and quality.\n",
        "    - Mixed precision for faster inference.\n",
        "    \"\"\"\n",
        "    # Load and preprocess the image\n",
        "    image = Image.open(image_path).convert(\"RGB\")\n",
        "\n",
        "    # Prepare the inputs for BLIP\n",
        "    inputs = blip_processor(images=image, return_tensors=\"pt\")\n",
        "\n",
        "    # Use autocast for mixed precision inference\n",
        "    with autocast():\n",
        "        # Generate the description with sampling or beam search\n",
        "        output = blip_model.generate(\n",
        "            **inputs,\n",
        "            max_length=max_length,\n",
        "            num_beams=num_beams,\n",
        "            early_stopping=True,\n",
        "            do_sample=do_sample,  # Enable sampling if specified\n",
        "            top_k=top_k if do_sample else None,  # Apply top-k sampling if do_sample is True\n",
        "            top_p=top_p if do_sample else None,  # Apply top-p (nucleus) sampling if do_sample is True\n",
        "            temperature=temperature if do_sample else None,  # Adjust temperature for randomness in sampling\n",
        "        )\n",
        "\n",
        "    # Decode the generated output\n",
        "    description = blip_processor.decode(output[0], skip_special_tokens=True)\n",
        "\n",
        "    return image, description\n",
        "\n",
        "def display_image_and_description(image, description):\n",
        "    \"\"\"\n",
        "    Display the image and its generated description.\n",
        "    \"\"\"\n",
        "    plt.figure(figsize=(8, 6))\n",
        "    plt.imshow(image)\n",
        "    plt.axis('off')  # Hide the axes\n",
        "    plt.title(description, fontsize=14)  # Show the description as the title\n",
        "    plt.show()\n",
        "\n",
        "# Example usage\n",
        "image_path = \"your path\"  # Replace with the path to your image\n",
        "\n",
        "# Adjust parameters for better performance\n",
        "image, description = generate_image_description(\n",
        "    image_path,\n",
        "    max_length=200,  # Allow for longer descriptions\n",
        "    num_beams=7,     # Increase beams for better quality\n",
        "    do_sample=True,  # Enable sampling for more creative captions\n",
        "    top_k=50,        # Top-k sampling\n",
        "    top_p=0.95,      # Nucleus sampling\n",
        "    temperature=0.7  # Control randomness\n",
        ")\n",
        "\n",
        "# Display the image and its description\n",
        "display_image_and_description(image, description)\n"
      ]
    },
    {
      "cell_type": "markdown",
      "metadata": {
        "id": "ZEZJWO0LqwHJ"
      },
      "source": [
        "## **Conclusion**\n",
        "This project demonstrates the application of advanced AI models for image captioning using the BLIP (Bootstrapped Language-Image Pretraining) model. By utilizing this model, we are able to generate meaningful, detailed descriptions of images, transforming visual data into human-readable text. This has various applications, listed below.\n",
        "\n",
        "The project also incorporates Python libraries such as PyTorch for running deep learning models, Transformers for leveraging pre-trained models, and PIL and Matplotlib for image handling and visualization. The dynamic caption generation system is flexible and can be applied to a wide range of images, making it a robust tool for image understanding tasks.\n",
        "\n",
        "With further improvements, such as integrating it into web applications or expanding the model's scope, this project can serve as a valuable foundation for AI-powered image processing and natural language generation applications.\n",
        "\n",
        "\n",
        "Few example usage of this project can be:\n",
        "1. Photo Archiving and Tagging Systems\n",
        "2. Automatic Captioning for News and Media Outlets\n",
        "3. Content Moderation with Descriptive Summaries of Uploaded Images\n",
        "4. Interactive Storytelling Applications Using AI\n",
        "5. AI-powered Presentation Tools for Auto-generating Slide Descriptions"
      ]
    }
  ],
  "metadata": {
    "accelerator": "GPU",
    "colab": {
      "gpuType": "T4",
      "provenance": []
    },
    "kernelspec": {
      "display_name": "Python 3",
      "name": "python3"
    }
  },
  "nbformat": 4,
  "nbformat_minor": 0
}
